{
 "cells": [
  {
   "cell_type": "markdown",
   "metadata": {},
   "source": [
    "# **Cluster Analysis on Batter Projections**\n",
    "\n",
    "## Summary\n",
    "\n",
    "This notebook gathers full season batting projections and runs a k-means cluster analysis to group players into tiers.  The tiers inform my draft strategy for batters, which contribute to the following categories.  Ideally, I am looking for a tier that represents the best batters in the draft.  This should be evident by the top tier's relative dominance across the five categories below. \n",
    "\n",
    "* Runs (R)\n",
    "* Home Runs (HR)\n",
    "* Runs Batted In (RBI)\n",
    "* Stolen Bases (SB)\n",
    "* Batting Average (AVG)\n",
    "\n",
    "More details about the league, scoring, etc can be found in the [README](../README.md). \n",
    "\n",
    "The elbow method suggested that three clusters should be ideal.  From a practical standpoint, I wanted a top tier with fewer players included, so I increased the cluster count iteratively until I found a level that produced the desired results.  There were 61 players in the top tier (cluster_num = 4).  This allowed me to focus my draft strategy on maximizing the number of selections from this tier.\n",
    "\n",
    "## Contents\n",
    "* Import Data\n",
    "* K-Means Clustering\n",
    "* Evaluation\n",
    "* Export Data"
   ]
  },
  {
   "cell_type": "markdown",
   "metadata": {},
   "source": [
    "---\n",
    "# **Environment**"
   ]
  },
  {
   "cell_type": "code",
   "execution_count": 1,
   "metadata": {},
   "outputs": [],
   "source": [
    "# General Usage\n",
    "import pandas as pd\n",
    "import numpy as np\n",
    "\n",
    "# Data Viz\n",
    "import seaborn as sns\n",
    "import matplotlib.pyplot as plt\n",
    "\n",
    "# Model\n",
    "from sklearn.cluster import KMeans"
   ]
  },
  {
   "cell_type": "markdown",
   "metadata": {},
   "source": [
    "---\n",
    "# **Import Data**"
   ]
  },
  {
   "cell_type": "code",
   "execution_count": 2,
   "metadata": {},
   "outputs": [],
   "source": [
    "# import 2021 projections\n",
    "projections_df = pd.read_csv('2021_batting_projections.csv')"
   ]
  },
  {
   "cell_type": "code",
   "execution_count": 3,
   "metadata": {},
   "outputs": [
    {
     "name": "stdout",
     "output_type": "stream",
     "text": [
      "<class 'pandas.core.frame.DataFrame'>\n",
      "RangeIndex: 608 entries, 0 to 607\n",
      "Data columns (total 6 columns):\n",
      " #   Column  Non-Null Count  Dtype  \n",
      "---  ------  --------------  -----  \n",
      " 0   Name    608 non-null    object \n",
      " 1   HR      608 non-null    int64  \n",
      " 2   R       608 non-null    int64  \n",
      " 3   RBI     608 non-null    int64  \n",
      " 4   SB      608 non-null    int64  \n",
      " 5   AVG     608 non-null    float64\n",
      "dtypes: float64(1), int64(4), object(1)\n",
      "memory usage: 28.6+ KB\n"
     ]
    }
   ],
   "source": [
    "# review dataset\n",
    "projections_df.info(verbose=True, show_counts=True)"
   ]
  },
  {
   "cell_type": "code",
   "execution_count": 4,
   "metadata": {},
   "outputs": [
    {
     "data": {
      "text/html": [
       "<div>\n",
       "<style scoped>\n",
       "    .dataframe tbody tr th:only-of-type {\n",
       "        vertical-align: middle;\n",
       "    }\n",
       "\n",
       "    .dataframe tbody tr th {\n",
       "        vertical-align: top;\n",
       "    }\n",
       "\n",
       "    .dataframe thead th {\n",
       "        text-align: right;\n",
       "    }\n",
       "</style>\n",
       "<table border=\"1\" class=\"dataframe\">\n",
       "  <thead>\n",
       "    <tr style=\"text-align: right;\">\n",
       "      <th></th>\n",
       "      <th>Name</th>\n",
       "      <th>HR</th>\n",
       "      <th>R</th>\n",
       "      <th>RBI</th>\n",
       "      <th>SB</th>\n",
       "      <th>AVG</th>\n",
       "    </tr>\n",
       "  </thead>\n",
       "  <tbody>\n",
       "    <tr>\n",
       "      <th>0</th>\n",
       "      <td>Mike Trout</td>\n",
       "      <td>44</td>\n",
       "      <td>116</td>\n",
       "      <td>113</td>\n",
       "      <td>11</td>\n",
       "      <td>0.290</td>\n",
       "    </tr>\n",
       "    <tr>\n",
       "      <th>1</th>\n",
       "      <td>Juan Soto</td>\n",
       "      <td>35</td>\n",
       "      <td>107</td>\n",
       "      <td>107</td>\n",
       "      <td>11</td>\n",
       "      <td>0.299</td>\n",
       "    </tr>\n",
       "    <tr>\n",
       "      <th>2</th>\n",
       "      <td>Freddie Freeman</td>\n",
       "      <td>31</td>\n",
       "      <td>103</td>\n",
       "      <td>102</td>\n",
       "      <td>7</td>\n",
       "      <td>0.300</td>\n",
       "    </tr>\n",
       "    <tr>\n",
       "      <th>3</th>\n",
       "      <td>Christian Yelich</td>\n",
       "      <td>35</td>\n",
       "      <td>105</td>\n",
       "      <td>103</td>\n",
       "      <td>18</td>\n",
       "      <td>0.285</td>\n",
       "    </tr>\n",
       "    <tr>\n",
       "      <th>4</th>\n",
       "      <td>Bryce Harper</td>\n",
       "      <td>35</td>\n",
       "      <td>102</td>\n",
       "      <td>102</td>\n",
       "      <td>13</td>\n",
       "      <td>0.267</td>\n",
       "    </tr>\n",
       "    <tr>\n",
       "      <th>5</th>\n",
       "      <td>Mookie Betts</td>\n",
       "      <td>33</td>\n",
       "      <td>111</td>\n",
       "      <td>102</td>\n",
       "      <td>20</td>\n",
       "      <td>0.292</td>\n",
       "    </tr>\n",
       "    <tr>\n",
       "      <th>6</th>\n",
       "      <td>Cody Bellinger</td>\n",
       "      <td>38</td>\n",
       "      <td>106</td>\n",
       "      <td>108</td>\n",
       "      <td>14</td>\n",
       "      <td>0.278</td>\n",
       "    </tr>\n",
       "    <tr>\n",
       "      <th>7</th>\n",
       "      <td>Alex Bregman</td>\n",
       "      <td>31</td>\n",
       "      <td>99</td>\n",
       "      <td>97</td>\n",
       "      <td>5</td>\n",
       "      <td>0.277</td>\n",
       "    </tr>\n",
       "    <tr>\n",
       "      <th>8</th>\n",
       "      <td>Ronald Acuna Jr.</td>\n",
       "      <td>36</td>\n",
       "      <td>112</td>\n",
       "      <td>99</td>\n",
       "      <td>30</td>\n",
       "      <td>0.280</td>\n",
       "    </tr>\n",
       "    <tr>\n",
       "      <th>9</th>\n",
       "      <td>Aaron Judge</td>\n",
       "      <td>35</td>\n",
       "      <td>90</td>\n",
       "      <td>87</td>\n",
       "      <td>4</td>\n",
       "      <td>0.257</td>\n",
       "    </tr>\n",
       "  </tbody>\n",
       "</table>\n",
       "</div>"
      ],
      "text/plain": [
       "               Name  HR    R  RBI  SB    AVG\n",
       "0        Mike Trout  44  116  113  11  0.290\n",
       "1         Juan Soto  35  107  107  11  0.299\n",
       "2   Freddie Freeman  31  103  102   7  0.300\n",
       "3  Christian Yelich  35  105  103  18  0.285\n",
       "4      Bryce Harper  35  102  102  13  0.267\n",
       "5      Mookie Betts  33  111  102  20  0.292\n",
       "6    Cody Bellinger  38  106  108  14  0.278\n",
       "7      Alex Bregman  31   99   97   5  0.277\n",
       "8  Ronald Acuna Jr.  36  112   99  30  0.280\n",
       "9       Aaron Judge  35   90   87   4  0.257"
      ]
     },
     "execution_count": 4,
     "metadata": {},
     "output_type": "execute_result"
    }
   ],
   "source": [
    "# check top 10 records\n",
    "projections_df.head(10)"
   ]
  },
  {
   "cell_type": "markdown",
   "metadata": {},
   "source": [
    "---\n",
    "# **K-Means Clustering**"
   ]
  },
  {
   "cell_type": "code",
   "execution_count": 5,
   "metadata": {},
   "outputs": [],
   "source": [
    "# capture statistical categories for cluster analysis\n",
    "categories = projections_df.columns[1:]"
   ]
  },
  {
   "cell_type": "code",
   "execution_count": 6,
   "metadata": {},
   "outputs": [],
   "source": [
    "# empty list for cost function results\n",
    "distortions = []\n",
    "\n",
    "# run k-means for 1 to 10 clusters\n",
    "for k in range(1,10):\n",
    "    kmeanModel = KMeans(n_clusters=k, random_state=22)\n",
    "    kmeanModel.fit(projections_df[categories])\n",
    "    distortions.append(kmeanModel.inertia_)"
   ]
  },
  {
   "cell_type": "code",
   "execution_count": 7,
   "metadata": {},
   "outputs": [
    {
     "data": {
      "image/png": "[encoded data removed]",
      "text/plain": [
       "<Figure size 1600x800 with 1 Axes>"
      ]
     },
     "metadata": {},
     "output_type": "display_data"
    }
   ],
   "source": [
    "# plotting the cost function to evaluate the optimal k - in retrospect, 3 clusters were sufficient\n",
    "sns.set_style(\"whitegrid\")\n",
    "plt.figure(figsize=(16,8))\n",
    "plt.plot(range(1,10), distortions, 'bx-')\n",
    "plt.xlabel('k')\n",
    "plt.ylabel('Distortion')\n",
    "plt.title('The Elbow Method, Hunting for the Optimal Number of Clusters')\n",
    "plt.show()"
   ]
  },
  {
   "cell_type": "code",
   "execution_count": 14,
   "metadata": {},
   "outputs": [
    {
     "data": {
      "text/html": [
       "<style>#sk-container-id-2 {color: black;background-color: white;}#sk-container-id-2 pre{padding: 0;}#sk-container-id-2 div.sk-toggleable {background-color: white;}#sk-container-id-2 label.sk-toggleable__label {cursor: pointer;display: block;width: 100%;margin-bottom: 0;padding: 0.3em;box-sizing: border-box;text-align: center;}#sk-container-id-2 label.sk-toggleable__label-arrow:before {content: \"▸\";float: left;margin-right: 0.25em;color: #696969;}#sk-container-id-2 label.sk-toggleable__label-arrow:hover:before {color: black;}#sk-container-id-2 div.sk-estimator:hover label.sk-toggleable__label-arrow:before {color: black;}#sk-container-id-2 div.sk-toggleable__content {max-height: 0;max-width: 0;overflow: hidden;text-align: left;background-color: #f0f8ff;}#sk-container-id-2 div.sk-toggleable__content pre {margin: 0.2em;color: black;border-radius: 0.25em;background-color: #f0f8ff;}#sk-container-id-2 input.sk-toggleable__control:checked~div.sk-toggleable__content {max-height: 200px;max-width: 100%;overflow: auto;}#sk-container-id-2 input.sk-toggleable__control:checked~label.sk-toggleable__label-arrow:before {content: \"▾\";}#sk-container-id-2 div.sk-estimator input.sk-toggleable__control:checked~label.sk-toggleable__label {background-color: #d4ebff;}#sk-container-id-2 div.sk-label input.sk-toggleable__control:checked~label.sk-toggleable__label {background-color: #d4ebff;}#sk-container-id-2 input.sk-hidden--visually {border: 0;clip: rect(1px 1px 1px 1px);clip: rect(1px, 1px, 1px, 1px);height: 1px;margin: -1px;overflow: hidden;padding: 0;position: absolute;width: 1px;}#sk-container-id-2 div.sk-estimator {font-family: monospace;background-color: #f0f8ff;border: 1px dotted black;border-radius: 0.25em;box-sizing: border-box;margin-bottom: 0.5em;}#sk-container-id-2 div.sk-estimator:hover {background-color: #d4ebff;}#sk-container-id-2 div.sk-parallel-item::after {content: \"\";width: 100%;border-bottom: 1px solid gray;flex-grow: 1;}#sk-container-id-2 div.sk-label:hover label.sk-toggleable__label {background-color: #d4ebff;}#sk-container-id-2 div.sk-serial::before {content: \"\";position: absolute;border-left: 1px solid gray;box-sizing: border-box;top: 0;bottom: 0;left: 50%;z-index: 0;}#sk-container-id-2 div.sk-serial {display: flex;flex-direction: column;align-items: center;background-color: white;padding-right: 0.2em;padding-left: 0.2em;position: relative;}#sk-container-id-2 div.sk-item {position: relative;z-index: 1;}#sk-container-id-2 div.sk-parallel {display: flex;align-items: stretch;justify-content: center;background-color: white;position: relative;}#sk-container-id-2 div.sk-item::before, #sk-container-id-2 div.sk-parallel-item::before {content: \"\";position: absolute;border-left: 1px solid gray;box-sizing: border-box;top: 0;bottom: 0;left: 50%;z-index: -1;}#sk-container-id-2 div.sk-parallel-item {display: flex;flex-direction: column;z-index: 1;position: relative;background-color: white;}#sk-container-id-2 div.sk-parallel-item:first-child::after {align-self: flex-end;width: 50%;}#sk-container-id-2 div.sk-parallel-item:last-child::after {align-self: flex-start;width: 50%;}#sk-container-id-2 div.sk-parallel-item:only-child::after {width: 0;}#sk-container-id-2 div.sk-dashed-wrapped {border: 1px dashed gray;margin: 0 0.4em 0.5em 0.4em;box-sizing: border-box;padding-bottom: 0.4em;background-color: white;}#sk-container-id-2 div.sk-label label {font-family: monospace;font-weight: bold;display: inline-block;line-height: 1.2em;}#sk-container-id-2 div.sk-label-container {text-align: center;}#sk-container-id-2 div.sk-container {/* jupyter's `normalize.less` sets `[hidden] { display: none; }` but bootstrap.min.css set `[hidden] { display: none !important; }` so we also need the `!important` here to be able to override the default hidden behavior on the sphinx rendered scikit-learn.org. See: https://github.com/scikit-learn/scikit-learn/issues/21755 */display: inline-block !important;position: relative;}#sk-container-id-2 div.sk-text-repr-fallback {display: none;}</style><div id=\"sk-container-id-2\" class=\"sk-top-container\"><div class=\"sk-text-repr-fallback\"><pre>KMeans(n_clusters=5, random_state=22)</pre><b>In a Jupyter environment, please rerun this cell to show the HTML representation or trust the notebook. <br />On GitHub, the HTML representation is unable to render, please try loading this page with nbviewer.org.</b></div><div class=\"sk-container\" hidden><div class=\"sk-item\"><div class=\"sk-estimator sk-toggleable\"><input class=\"sk-toggleable__control sk-hidden--visually\" id=\"sk-estimator-id-2\" type=\"checkbox\" checked><label for=\"sk-estimator-id-2\" class=\"sk-toggleable__label sk-toggleable__label-arrow\">KMeans</label><div class=\"sk-toggleable__content\"><pre>KMeans(n_clusters=5, random_state=22)</pre></div></div></div></div></div>"
      ],
      "text/plain": [
       "KMeans(n_clusters=5, random_state=22)"
      ]
     },
     "execution_count": 14,
     "metadata": {},
     "output_type": "execute_result"
    }
   ],
   "source": [
    "# initialize K-Means model with 5 clusters\n",
    "kmeans_mod = KMeans(n_clusters=5, random_state=22)\n",
    "\n",
    "# fit model using projections\n",
    "kmeans_mod.fit(projections_df[categories])"
   ]
  },
  {
   "cell_type": "markdown",
   "metadata": {},
   "source": [
    "---\n",
    "# **Evaluation**"
   ]
  },
  {
   "cell_type": "code",
   "execution_count": 15,
   "metadata": {},
   "outputs": [],
   "source": [
    "# add cluster number to a new column\n",
    "projections_df['cluster_num']=kmeans_mod.predict(projections_df[categories])"
   ]
  },
  {
   "cell_type": "code",
   "execution_count": 16,
   "metadata": {},
   "outputs": [
    {
     "data": {
      "text/html": [
       "<div>\n",
       "<style scoped>\n",
       "    .dataframe tbody tr th:only-of-type {\n",
       "        vertical-align: middle;\n",
       "    }\n",
       "\n",
       "    .dataframe tbody tr th {\n",
       "        vertical-align: top;\n",
       "    }\n",
       "\n",
       "    .dataframe thead th {\n",
       "        text-align: right;\n",
       "    }\n",
       "</style>\n",
       "<table border=\"1\" class=\"dataframe\">\n",
       "  <thead>\n",
       "    <tr style=\"text-align: right;\">\n",
       "      <th></th>\n",
       "      <th>Name</th>\n",
       "      <th>HR</th>\n",
       "      <th>R</th>\n",
       "      <th>RBI</th>\n",
       "      <th>SB</th>\n",
       "      <th>AVG</th>\n",
       "      <th>cluster_num</th>\n",
       "    </tr>\n",
       "  </thead>\n",
       "  <tbody>\n",
       "    <tr>\n",
       "      <th>0</th>\n",
       "      <td>Mike Trout</td>\n",
       "      <td>44</td>\n",
       "      <td>116</td>\n",
       "      <td>113</td>\n",
       "      <td>11</td>\n",
       "      <td>0.290</td>\n",
       "      <td>4</td>\n",
       "    </tr>\n",
       "    <tr>\n",
       "      <th>1</th>\n",
       "      <td>Juan Soto</td>\n",
       "      <td>35</td>\n",
       "      <td>107</td>\n",
       "      <td>107</td>\n",
       "      <td>11</td>\n",
       "      <td>0.299</td>\n",
       "      <td>4</td>\n",
       "    </tr>\n",
       "    <tr>\n",
       "      <th>2</th>\n",
       "      <td>Freddie Freeman</td>\n",
       "      <td>31</td>\n",
       "      <td>103</td>\n",
       "      <td>102</td>\n",
       "      <td>7</td>\n",
       "      <td>0.300</td>\n",
       "      <td>4</td>\n",
       "    </tr>\n",
       "    <tr>\n",
       "      <th>3</th>\n",
       "      <td>Christian Yelich</td>\n",
       "      <td>35</td>\n",
       "      <td>105</td>\n",
       "      <td>103</td>\n",
       "      <td>18</td>\n",
       "      <td>0.285</td>\n",
       "      <td>4</td>\n",
       "    </tr>\n",
       "    <tr>\n",
       "      <th>4</th>\n",
       "      <td>Bryce Harper</td>\n",
       "      <td>35</td>\n",
       "      <td>102</td>\n",
       "      <td>102</td>\n",
       "      <td>13</td>\n",
       "      <td>0.267</td>\n",
       "      <td>4</td>\n",
       "    </tr>\n",
       "    <tr>\n",
       "      <th>5</th>\n",
       "      <td>Mookie Betts</td>\n",
       "      <td>33</td>\n",
       "      <td>111</td>\n",
       "      <td>102</td>\n",
       "      <td>20</td>\n",
       "      <td>0.292</td>\n",
       "      <td>4</td>\n",
       "    </tr>\n",
       "    <tr>\n",
       "      <th>6</th>\n",
       "      <td>Cody Bellinger</td>\n",
       "      <td>38</td>\n",
       "      <td>106</td>\n",
       "      <td>108</td>\n",
       "      <td>14</td>\n",
       "      <td>0.278</td>\n",
       "      <td>4</td>\n",
       "    </tr>\n",
       "    <tr>\n",
       "      <th>7</th>\n",
       "      <td>Alex Bregman</td>\n",
       "      <td>31</td>\n",
       "      <td>99</td>\n",
       "      <td>97</td>\n",
       "      <td>5</td>\n",
       "      <td>0.277</td>\n",
       "      <td>4</td>\n",
       "    </tr>\n",
       "    <tr>\n",
       "      <th>8</th>\n",
       "      <td>Ronald Acuna Jr.</td>\n",
       "      <td>36</td>\n",
       "      <td>112</td>\n",
       "      <td>99</td>\n",
       "      <td>30</td>\n",
       "      <td>0.280</td>\n",
       "      <td>4</td>\n",
       "    </tr>\n",
       "    <tr>\n",
       "      <th>9</th>\n",
       "      <td>Aaron Judge</td>\n",
       "      <td>35</td>\n",
       "      <td>90</td>\n",
       "      <td>87</td>\n",
       "      <td>4</td>\n",
       "      <td>0.257</td>\n",
       "      <td>4</td>\n",
       "    </tr>\n",
       "  </tbody>\n",
       "</table>\n",
       "</div>"
      ],
      "text/plain": [
       "               Name  HR    R  RBI  SB    AVG  cluster_num\n",
       "0        Mike Trout  44  116  113  11  0.290            4\n",
       "1         Juan Soto  35  107  107  11  0.299            4\n",
       "2   Freddie Freeman  31  103  102   7  0.300            4\n",
       "3  Christian Yelich  35  105  103  18  0.285            4\n",
       "4      Bryce Harper  35  102  102  13  0.267            4\n",
       "5      Mookie Betts  33  111  102  20  0.292            4\n",
       "6    Cody Bellinger  38  106  108  14  0.278            4\n",
       "7      Alex Bregman  31   99   97   5  0.277            4\n",
       "8  Ronald Acuna Jr.  36  112   99  30  0.280            4\n",
       "9       Aaron Judge  35   90   87   4  0.257            4"
      ]
     },
     "execution_count": 16,
     "metadata": {},
     "output_type": "execute_result"
    }
   ],
   "source": [
    "# review clustering results\n",
    "projections_df.head(10)"
   ]
  },
  {
   "cell_type": "code",
   "execution_count": 18,
   "metadata": {},
   "outputs": [
    {
     "data": {
      "text/plain": [
       "3    225\n",
       "1    132\n",
       "2    102\n",
       "0     88\n",
       "4     61\n",
       "Name: cluster_num, dtype: int64"
      ]
     },
     "execution_count": 18,
     "metadata": {},
     "output_type": "execute_result"
    }
   ],
   "source": [
    "# review player counts by cluster\n",
    "projections_df.cluster_num.value_counts()"
   ]
  },
  {
   "cell_type": "code",
   "execution_count": 19,
   "metadata": {},
   "outputs": [
    {
     "data": {
      "text/html": [
       "<div>\n",
       "<style scoped>\n",
       "    .dataframe tbody tr th:only-of-type {\n",
       "        vertical-align: middle;\n",
       "    }\n",
       "\n",
       "    .dataframe tbody tr th {\n",
       "        vertical-align: top;\n",
       "    }\n",
       "\n",
       "    .dataframe thead th {\n",
       "        text-align: right;\n",
       "    }\n",
       "</style>\n",
       "<table border=\"1\" class=\"dataframe\">\n",
       "  <thead>\n",
       "    <tr style=\"text-align: right;\">\n",
       "      <th></th>\n",
       "      <th>HR</th>\n",
       "      <th>R</th>\n",
       "      <th>RBI</th>\n",
       "      <th>SB</th>\n",
       "      <th>AVG</th>\n",
       "    </tr>\n",
       "    <tr>\n",
       "      <th>cluster_num</th>\n",
       "      <th></th>\n",
       "      <th></th>\n",
       "      <th></th>\n",
       "      <th></th>\n",
       "      <th></th>\n",
       "    </tr>\n",
       "  </thead>\n",
       "  <tbody>\n",
       "    <tr>\n",
       "      <th>0</th>\n",
       "      <td>20.931818</td>\n",
       "      <td>73.227273</td>\n",
       "      <td>71.965909</td>\n",
       "      <td>7.000000</td>\n",
       "      <td>0.253909</td>\n",
       "    </tr>\n",
       "    <tr>\n",
       "      <th>1</th>\n",
       "      <td>6.712121</td>\n",
       "      <td>27.765152</td>\n",
       "      <td>26.492424</td>\n",
       "      <td>2.931818</td>\n",
       "      <td>0.234712</td>\n",
       "    </tr>\n",
       "    <tr>\n",
       "      <th>2</th>\n",
       "      <td>12.450980</td>\n",
       "      <td>54.843137</td>\n",
       "      <td>50.941176</td>\n",
       "      <td>6.490196</td>\n",
       "      <td>0.247265</td>\n",
       "    </tr>\n",
       "    <tr>\n",
       "      <th>3</th>\n",
       "      <td>1.173333</td>\n",
       "      <td>5.662222</td>\n",
       "      <td>5.253333</td>\n",
       "      <td>0.524444</td>\n",
       "      <td>0.227738</td>\n",
       "    </tr>\n",
       "    <tr>\n",
       "      <th>4</th>\n",
       "      <td>30.803279</td>\n",
       "      <td>90.672131</td>\n",
       "      <td>92.098361</td>\n",
       "      <td>9.098361</td>\n",
       "      <td>0.266770</td>\n",
       "    </tr>\n",
       "  </tbody>\n",
       "</table>\n",
       "</div>"
      ],
      "text/plain": [
       "                    HR          R        RBI        SB       AVG\n",
       "cluster_num                                                     \n",
       "0            20.931818  73.227273  71.965909  7.000000  0.253909\n",
       "1             6.712121  27.765152  26.492424  2.931818  0.234712\n",
       "2            12.450980  54.843137  50.941176  6.490196  0.247265\n",
       "3             1.173333   5.662222   5.253333  0.524444  0.227738\n",
       "4            30.803279  90.672131  92.098361  9.098361  0.266770"
      ]
     },
     "execution_count": 19,
     "metadata": {},
     "output_type": "execute_result"
    }
   ],
   "source": [
    "# review average projections by cluster\n",
    "projections_df.groupby('cluster_num').mean()"
   ]
  },
  {
   "cell_type": "markdown",
   "metadata": {},
   "source": [
    "---\n",
    "# **Export Data**"
   ]
  },
  {
   "cell_type": "code",
   "execution_count": 22,
   "metadata": {},
   "outputs": [],
   "source": [
    "# export projections with clusters\n",
    "projections_df.sort_values(by='cluster_num', ascending=False).to_csv('kmeans_output.csv', index=False)"
   ]
  }
 ],
 "metadata": {
  "kernelspec": {
   "display_name": "Python 3.9.13 ('base')",
   "language": "python",
   "name": "python3"
  },
  "language_info": {
   "codemirror_mode": {
    "name": "ipython",
    "version": 3
   },
   "file_extension": ".py",
   "mimetype": "text/x-python",
   "name": "python",
   "nbconvert_exporter": "python",
   "pygments_lexer": "ipython3",
   "version": "3.9.13"
  },
  "orig_nbformat": 4,
  "vscode": {
   "interpreter": {
    "hash": "5e87be402837ac46107627e3effdac6e74bd8f35e1efd7d32857fe16d45bbecb"
   }
  }
 },
 "nbformat": 4,
 "nbformat_minor": 2
}
