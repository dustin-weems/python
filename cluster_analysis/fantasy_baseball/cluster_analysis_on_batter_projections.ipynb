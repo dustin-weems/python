{
 "cells": [
  {
   "cell_type": "markdown",
   "metadata": {},
   "source": [
    "# **Cluster Analysis on Batter Projections**\n",
    "\n",
    "## Summary\n",
    "\n",
    "This notebook gathers full season batting projections and runs a k-means cluster analysis to group players into tiers.  The tiers inform my draft strategy for batters, which contribute to the following categories.  Ideally, I am looking a tier that represents the best batters in the draft.  This should be evident by the top tier's relative dominance across the five categories below. \n",
    "\n",
    "* Runs (R)\n",
    "* Home Runs (HR)\n",
    "* Runs Batted In (RBI)\n",
    "* Stolen Bases (SB)\n",
    "* Batting Average (AVG)\n",
    "\n",
    "More details about the league, scoring, etc can be found in the [README](../README.md).  \n",
    "\n",
    "## Contents\n",
    "* Import Data\n",
    "* Exploratory Data Analysis\n",
    "* K-means Clustering\n",
    "* Evaluation\n",
    "* Export Data\n"
   ]
  },
  {
   "cell_type": "markdown",
   "metadata": {},
   "source": [
    "---\n",
    "# **Environment**"
   ]
  },
  {
   "cell_type": "code",
   "execution_count": null,
   "metadata": {},
   "outputs": [],
   "source": []
  },
  {
   "cell_type": "code",
   "execution_count": null,
   "metadata": {},
   "outputs": [],
   "source": []
  }
 ],
 "metadata": {
  "kernelspec": {
   "display_name": "Python 3.8.9 64-bit",
   "language": "python",
   "name": "python3"
  },
  "language_info": {
   "name": "python",
   "version": "3.8.9"
  },
  "orig_nbformat": 4,
  "vscode": {
   "interpreter": {
    "hash": "31f2aee4e71d21fbe5cf8b01ff0e069b9275f58929596ceb00d14d90e3e16cd6"
   }
  }
 },
 "nbformat": 4,
 "nbformat_minor": 2
}
